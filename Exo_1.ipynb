{
 "cells": [
  {
   "cell_type": "code",
   "execution_count": 64,
   "id": "f64cf0c3-7521-425d-9ee4-f253d81a4e00",
   "metadata": {},
   "outputs": [
    {
     "data": {
      "text/html": [
       "<div>\n",
       "<style scoped>\n",
       "    .dataframe tbody tr th:only-of-type {\n",
       "        vertical-align: middle;\n",
       "    }\n",
       "\n",
       "    .dataframe tbody tr th {\n",
       "        vertical-align: top;\n",
       "    }\n",
       "\n",
       "    .dataframe thead th {\n",
       "        text-align: right;\n",
       "    }\n",
       "</style>\n",
       "<table border=\"1\" class=\"dataframe\">\n",
       "  <thead>\n",
       "    <tr style=\"text-align: right;\">\n",
       "      <th></th>\n",
       "      <th>DATE_TODAY</th>\n",
       "      <th>ID_ARTICLE</th>\n",
       "      <th>LIBELLE</th>\n",
       "      <th>PRICE</th>\n",
       "      <th>STOCK</th>\n",
       "    </tr>\n",
       "  </thead>\n",
       "  <tbody>\n",
       "    <tr>\n",
       "      <th>0</th>\n",
       "      <td>2020-09-07</td>\n",
       "      <td>2196543</td>\n",
       "      <td>NaN</td>\n",
       "      <td>2.40</td>\n",
       "      <td>6.0</td>\n",
       "    </tr>\n",
       "    <tr>\n",
       "      <th>1</th>\n",
       "      <td>2020-09-07</td>\n",
       "      <td>2339672</td>\n",
       "      <td>NaN</td>\n",
       "      <td>2.02</td>\n",
       "      <td>15.0</td>\n",
       "    </tr>\n",
       "    <tr>\n",
       "      <th>2</th>\n",
       "      <td>NaN</td>\n",
       "      <td>2196543</td>\n",
       "      <td>NaN</td>\n",
       "      <td>2.35</td>\n",
       "      <td>12.0</td>\n",
       "    </tr>\n",
       "    <tr>\n",
       "      <th>3</th>\n",
       "      <td>2020-09-07</td>\n",
       "      <td>2024529</td>\n",
       "      <td>NaN</td>\n",
       "      <td>3.12</td>\n",
       "      <td>11.0</td>\n",
       "    </tr>\n",
       "    <tr>\n",
       "      <th>4</th>\n",
       "      <td>2020-09-07</td>\n",
       "      <td>8718949</td>\n",
       "      <td>NaN</td>\n",
       "      <td>3.09</td>\n",
       "      <td>15.0</td>\n",
       "    </tr>\n",
       "    <tr>\n",
       "      <th>...</th>\n",
       "      <td>...</td>\n",
       "      <td>...</td>\n",
       "      <td>...</td>\n",
       "      <td>...</td>\n",
       "      <td>...</td>\n",
       "    </tr>\n",
       "    <tr>\n",
       "      <th>1353</th>\n",
       "      <td>2020-09-07</td>\n",
       "      <td>2390619</td>\n",
       "      <td>NaN</td>\n",
       "      <td>5.37</td>\n",
       "      <td>NaN</td>\n",
       "    </tr>\n",
       "    <tr>\n",
       "      <th>1354</th>\n",
       "      <td>2020-09-07</td>\n",
       "      <td>6566229</td>\n",
       "      <td>Yaourt au soja, nature</td>\n",
       "      <td>NaN</td>\n",
       "      <td>NaN</td>\n",
       "    </tr>\n",
       "    <tr>\n",
       "      <th>1355</th>\n",
       "      <td>NaN</td>\n",
       "      <td>1866590</td>\n",
       "      <td>NaN</td>\n",
       "      <td>3.88</td>\n",
       "      <td>NaN</td>\n",
       "    </tr>\n",
       "    <tr>\n",
       "      <th>1356</th>\n",
       "      <td>2020-09-07</td>\n",
       "      <td>1866565</td>\n",
       "      <td>NaN</td>\n",
       "      <td>3.26</td>\n",
       "      <td>3.0</td>\n",
       "    </tr>\n",
       "    <tr>\n",
       "      <th>1357</th>\n",
       "      <td>2020-09-07</td>\n",
       "      <td>9768180</td>\n",
       "      <td>NaN</td>\n",
       "      <td>3.41</td>\n",
       "      <td>7.0</td>\n",
       "    </tr>\n",
       "  </tbody>\n",
       "</table>\n",
       "<p>1358 rows × 5 columns</p>\n",
       "</div>"
      ],
      "text/plain": [
       "      DATE_TODAY  ID_ARTICLE                 LIBELLE  PRICE  STOCK\n",
       "0     2020-09-07     2196543                     NaN   2.40    6.0\n",
       "1     2020-09-07     2339672                     NaN   2.02   15.0\n",
       "2            NaN     2196543                     NaN   2.35   12.0\n",
       "3     2020-09-07     2024529                     NaN   3.12   11.0\n",
       "4     2020-09-07     8718949                     NaN   3.09   15.0\n",
       "...          ...         ...                     ...    ...    ...\n",
       "1353  2020-09-07     2390619                     NaN   5.37    NaN\n",
       "1354  2020-09-07     6566229  Yaourt au soja, nature    NaN    NaN\n",
       "1355         NaN     1866590                     NaN   3.88    NaN\n",
       "1356  2020-09-07     1866565                     NaN   3.26    3.0\n",
       "1357  2020-09-07     9768180                     NaN   3.41    7.0\n",
       "\n",
       "[1358 rows x 5 columns]"
      ]
     },
     "execution_count": 64,
     "metadata": {},
     "output_type": "execute_result"
    }
   ],
   "source": [
    "import pandas as pd \n",
    "import numpy as np \n",
    "import random \n",
    "from sklearn.impute import KNNImputer\n",
    "\n",
    "df = pd.read_csv('./missing_values.csv')\n",
    "df"
   ]
  },
  {
   "cell_type": "markdown",
   "id": "33064f2f-0e62-45ca-9e31-f33cb958b3d6",
   "metadata": {},
   "source": [
    "Détecter les valeurs manquantes avec isnull ou isna => VRAI SI VALEUR MANQUANTE (notnull et notna renvoient vrai si la valeur n'est pas manquante)"
   ]
  },
  {
   "cell_type": "code",
   "execution_count": 15,
   "id": "b9e5c037-d425-4fd5-a692-83816942d986",
   "metadata": {},
   "outputs": [
    {
     "name": "stdout",
     "output_type": "stream",
     "text": [
      "      DATE_TODAY  ID_ARTICLE  LIBELLE  PRICE  STOCK\n",
      "0          False       False     True  False  False\n",
      "1          False       False     True  False  False\n",
      "2           True       False     True  False  False\n",
      "3          False       False     True  False  False\n",
      "4          False       False     True  False  False\n",
      "...          ...         ...      ...    ...    ...\n",
      "1353       False       False     True  False   True\n",
      "1354       False       False    False   True   True\n",
      "1355        True       False     True  False   True\n",
      "1356       False       False     True  False  False\n",
      "1357       False       False     True  False  False\n",
      "\n",
      "[1358 rows x 5 columns]\n"
     ]
    }
   ],
   "source": [
    "print(df.isnull())"
   ]
  },
  {
   "cell_type": "markdown",
   "id": "4518c92d-9942-4839-b147-bb6cc7878c4a",
   "metadata": {},
   "source": [
    "On regarde pour chaque colonne s'il y a des valeurs manquantes (false s'il y a des valeurs manquantes) - je peux faire print(df.isnull().any()) pour afficher true si une colonne contient au moins une valeur manquante (pareil avec les lignes via print(df.isnull().any(axis=1))"
   ]
  },
  {
   "cell_type": "code",
   "execution_count": 17,
   "id": "44146bd6-8365-4525-9191-35ccca81b261",
   "metadata": {},
   "outputs": [
    {
     "name": "stdout",
     "output_type": "stream",
     "text": [
      "DATE_TODAY    False\n",
      "ID_ARTICLE    False\n",
      "LIBELLE       False\n",
      "PRICE         False\n",
      "STOCK         False\n",
      "dtype: bool\n"
     ]
    }
   ],
   "source": [
    "print(df.isnull().all())"
   ]
  },
  {
   "cell_type": "markdown",
   "id": "b6f9af70-cfd0-4a33-9463-bb798f634362",
   "metadata": {},
   "source": [
    "On compte les valeurs manquantes par colonne "
   ]
  },
  {
   "cell_type": "code",
   "execution_count": 23,
   "id": "5656f5e1-9311-43ed-8618-7c8377c326e9",
   "metadata": {},
   "outputs": [
    {
     "name": "stdout",
     "output_type": "stream",
     "text": [
      "DATE_TODAY     259\n",
      "ID_ARTICLE       0\n",
      "LIBELLE       1121\n",
      "PRICE          245\n",
      "STOCK          531\n",
      "dtype: int64\n"
     ]
    }
   ],
   "source": [
    "print(df.isnull().sum())"
   ]
  },
  {
   "cell_type": "markdown",
   "id": "1abdc4ec-54a4-475f-a7a9-f172fa509170",
   "metadata": {},
   "source": [
    "On calcule le nombre global de valeurs manquantes dans le dataframe "
   ]
  },
  {
   "cell_type": "code",
   "execution_count": 25,
   "id": "3f393e92-2e81-40c1-9c3f-3c7d6498debb",
   "metadata": {},
   "outputs": [
    {
     "name": "stdout",
     "output_type": "stream",
     "text": [
      "2156\n"
     ]
    }
   ],
   "source": [
    "print (df.isnull().values.sum())"
   ]
  },
  {
   "cell_type": "markdown",
   "id": "d24b17ce-956b-426a-bd42-2a9e83833d36",
   "metadata": {},
   "source": [
    "Calculer le pourcentage de valeurs manquantes par colonne"
   ]
  },
  {
   "cell_type": "code",
   "execution_count": 45,
   "id": "2ca8c173-6062-4721-bac3-6ffd9cc7b9ef",
   "metadata": {},
   "outputs": [
    {
     "name": "stdout",
     "output_type": "stream",
     "text": [
      "DATE_TODAY    19.072165\n",
      "ID_ARTICLE     0.000000\n",
      "LIBELLE       82.547865\n",
      "PRICE         18.041237\n",
      "STOCK         39.101620\n",
      "dtype: float64\n"
     ]
    }
   ],
   "source": [
    "missing_per_column = df.isnull().mean() * 100\n",
    "print(missing_per_column)"
   ]
  },
  {
   "cell_type": "code",
   "execution_count": null,
   "id": "2844b19d-f45e-4660-91aa-631dd27312d7",
   "metadata": {},
   "outputs": [],
   "source": [
    "Calculer le pourcentage glocal de valeurs manquantes "
   ]
  },
  {
   "cell_type": "code",
   "execution_count": 41,
   "id": "290e2ea3-c08f-4e14-bd8e-e904e55b3152",
   "metadata": {},
   "outputs": [
    {
     "name": "stdout",
     "output_type": "stream",
     "text": [
      "\n",
      "Pourcentage global de valeurs manquantes :\n",
      "31.75%\n"
     ]
    }
   ],
   "source": [
    "total_missing = df.isnull().sum().sum()\n",
    "total_values = df.size\n",
    "global_missing_percentage = (total_missing / total_values) * 100\n",
    "print(\"\\nPourcentage global de valeurs manquantes :\")\n",
    "print(f\"{global_missing_percentage:.2f}%\")"
   ]
  },
  {
   "cell_type": "markdown",
   "id": "f1dfe158-ae51-4078-ae15-368422c6964a",
   "metadata": {},
   "source": [
    "Remplacer les valeurs manquantes par la moyenne  "
   ]
  },
  {
   "cell_type": "code",
   "execution_count": 52,
   "id": "aff65cb2-8c75-4e66-b6f3-e38579a7732d",
   "metadata": {},
   "outputs": [
    {
     "name": "stdout",
     "output_type": "stream",
     "text": [
      "      DATE_TODAY  ID_ARTICLE                 LIBELLE     PRICE      STOCK\n",
      "0     2020-09-07     2196543                     NaN  2.400000   6.000000\n",
      "1     2020-09-07     2339672                     NaN  2.020000  15.000000\n",
      "2            NaN     2196543                     NaN  2.350000  12.000000\n",
      "3     2020-09-07     2024529                     NaN  3.120000  11.000000\n",
      "4     2020-09-07     8718949                     NaN  3.090000  15.000000\n",
      "...          ...         ...                     ...       ...        ...\n",
      "1353  2020-09-07     2390619                     NaN  5.370000  11.177751\n",
      "1354  2020-09-07     6566229  Yaourt au soja, nature  3.969335  11.177751\n",
      "1355         NaN     1866590                     NaN  3.880000  11.177751\n",
      "1356  2020-09-07     1866565                     NaN  3.260000   3.000000\n",
      "1357  2020-09-07     9768180                     NaN  3.410000   7.000000\n",
      "\n",
      "[1358 rows x 5 columns]\n"
     ]
    }
   ],
   "source": [
    "print(df.fillna(df.select_dtypes(include=[np.number]).mean()))"
   ]
  },
  {
   "cell_type": "markdown",
   "id": "65898561-33fd-4b2b-9ac4-56107d0b8823",
   "metadata": {},
   "source": [
    "Remplacer les données manquantes par la médiane "
   ]
  },
  {
   "cell_type": "code",
   "execution_count": 54,
   "id": "dcddd26e-ad81-45d6-afbf-96b3bd623add",
   "metadata": {},
   "outputs": [
    {
     "name": "stdout",
     "output_type": "stream",
     "text": [
      "      DATE_TODAY  ID_ARTICLE                 LIBELLE  PRICE  STOCK\n",
      "0     2020-09-07     2196543                     NaN   2.40    6.0\n",
      "1     2020-09-07     2339672                     NaN   2.02   15.0\n",
      "2            NaN     2196543                     NaN   2.35   12.0\n",
      "3     2020-09-07     2024529                     NaN   3.12   11.0\n",
      "4     2020-09-07     8718949                     NaN   3.09   15.0\n",
      "...          ...         ...                     ...    ...    ...\n",
      "1353  2020-09-07     2390619                     NaN   5.37    6.0\n",
      "1354  2020-09-07     6566229  Yaourt au soja, nature   3.78    6.0\n",
      "1355         NaN     1866590                     NaN   3.88    6.0\n",
      "1356  2020-09-07     1866565                     NaN   3.26    3.0\n",
      "1357  2020-09-07     9768180                     NaN   3.41    7.0\n",
      "\n",
      "[1358 rows x 5 columns]\n"
     ]
    }
   ],
   "source": [
    "print(df.fillna(df.select_dtypes(include=[np.number]).median()))"
   ]
  },
  {
   "cell_type": "markdown",
   "id": "9724399c-0b56-4e7c-9ef4-94c2e487ba6e",
   "metadata": {},
   "source": [
    "Remplacer les données manquantes par la modalité la plus fréquente "
   ]
  },
  {
   "cell_type": "code",
   "execution_count": 58,
   "id": "dade8c12-f8f6-4612-8df7-2f1b47db883b",
   "metadata": {},
   "outputs": [
    {
     "name": "stdout",
     "output_type": "stream",
     "text": [
      "      DATE_TODAY  ID_ARTICLE                       LIBELLE  PRICE  STOCK\n",
      "0     2020-09-07     2196543  Yaourts au céréales – muesli   2.40    6.0\n",
      "1     2020-09-07     2339672  Yaourts au céréales – muesli   2.02   15.0\n",
      "2     2020-09-07     2196543  Yaourts au céréales – muesli   2.35   12.0\n",
      "3     2020-09-07     2024529  Yaourts au céréales – muesli   3.12   11.0\n",
      "4     2020-09-07     8718949  Yaourts au céréales – muesli   3.09   15.0\n",
      "...          ...         ...                           ...    ...    ...\n",
      "1353  2020-09-07     2390619  Yaourts au céréales – muesli   5.37    1.0\n",
      "1354  2020-09-07     6566229        Yaourt au soja, nature   2.34    1.0\n",
      "1355  2020-09-07     1866590  Yaourts au céréales – muesli   3.88    1.0\n",
      "1356  2020-09-07     1866565  Yaourts au céréales – muesli   3.26    3.0\n",
      "1357  2020-09-07     9768180  Yaourts au céréales – muesli   3.41    7.0\n",
      "\n",
      "[1358 rows x 5 columns]\n"
     ]
    }
   ],
   "source": [
    "print(df.apply(lambda x: x.fillna(x.mode()[0]) if not x.mode().empty else x))"
   ]
  },
  {
   "cell_type": "markdown",
   "id": "bf5cfef3-75b4-4358-9864-975c2e064438",
   "metadata": {},
   "source": [
    "Remplacer les données manquantes par 0 "
   ]
  },
  {
   "cell_type": "code",
   "execution_count": 50,
   "id": "1b9aea26-fbed-462c-ab59-ddf1ef308d89",
   "metadata": {},
   "outputs": [
    {
     "name": "stdout",
     "output_type": "stream",
     "text": [
      "      DATE_TODAY  ID_ARTICLE                 LIBELLE  PRICE  STOCK\n",
      "0     2020-09-07     2196543                       0   2.40    6.0\n",
      "1     2020-09-07     2339672                       0   2.02   15.0\n",
      "2              0     2196543                       0   2.35   12.0\n",
      "3     2020-09-07     2024529                       0   3.12   11.0\n",
      "4     2020-09-07     8718949                       0   3.09   15.0\n",
      "...          ...         ...                     ...    ...    ...\n",
      "1353  2020-09-07     2390619                       0   5.37    0.0\n",
      "1354  2020-09-07     6566229  Yaourt au soja, nature   0.00    0.0\n",
      "1355           0     1866590                       0   3.88    0.0\n",
      "1356  2020-09-07     1866565                       0   3.26    3.0\n",
      "1357  2020-09-07     9768180                       0   3.41    7.0\n",
      "\n",
      "[1358 rows x 5 columns]\n"
     ]
    }
   ],
   "source": [
    "print(df.fillna(0))"
   ]
  },
  {
   "cell_type": "markdown",
   "id": "cd68fdac-47d9-42a2-bd9c-6f829bb21565",
   "metadata": {},
   "source": [
    "Remplacer les valeurs manquantes par une valeur au hasard (hot deck) \n",
    "# Fonction pour remplacer les valeurs manquantes par une valeur au hasard de la même colonne\n",
    "def replace_with_random(x):\n",
    "    # Remplacer les NaN par des échantillons aléatoires des valeurs non manquantes\n",
    "    return x.fillna(np.random.choice(x.dropna())) if not x.dropna().empty else x\n",
    "\n",
    "# Appliquer la fonction à chaque colonne\n",
    "df_filled = df.apply(replace_with_random)"
   ]
  },
  {
   "cell_type": "code",
   "execution_count": 62,
   "id": "9d77f109-3145-4015-ae56-d53e6fb588db",
   "metadata": {},
   "outputs": [
    {
     "name": "stdout",
     "output_type": "stream",
     "text": [
      "      DATE_TODAY  ID_ARTICLE                                       LIBELLE  \\\n",
      "0     2020-09-07     2196543                           Yaourt à la grecque   \n",
      "1     2020-09-07     2339672                         Yaourt, fruits rouges   \n",
      "2     2020-09-07     2196543            Yaourt semoule aux raisins au rhum   \n",
      "3     2020-09-07     2024529              Yaourt à la framboise et vanille   \n",
      "4     2020-09-07     8718949                          Yaourt 0%, framboise   \n",
      "...          ...         ...                                           ...   \n",
      "1353  2020-09-07     2390619                               Yaourt, panaché   \n",
      "1354  2020-09-07     6566229                        Yaourt au soja, nature   \n",
      "1355  2020-09-07     1866590                  Yaourts au céréales – muesli   \n",
      "1356  2020-09-07     1866565  Yaourt au soja, fraise-banane et pêche-poire   \n",
      "1357  2020-09-07     9768180                                Yaourt – pêche   \n",
      "\n",
      "      PRICE  STOCK  \n",
      "0      2.40    6.0  \n",
      "1      2.02   15.0  \n",
      "2      2.35   12.0  \n",
      "3      3.12   11.0  \n",
      "4      3.09   15.0  \n",
      "...     ...    ...  \n",
      "1353   5.37    4.0  \n",
      "1354   5.19   19.0  \n",
      "1355   3.88    1.0  \n",
      "1356   3.26    3.0  \n",
      "1357   3.41    7.0  \n",
      "\n",
      "[1358 rows x 5 columns]\n"
     ]
    }
   ],
   "source": [
    "# Fonction pour remplacer les valeurs manquantes par des valeurs choisies au hasard de la même colonne\n",
    "def replace_with_random(x):\n",
    "    # Obtenir les valeurs non manquantes\n",
    "    non_missing_values = x.dropna().values\n",
    "    # Remplacer chaque valeur NaN par une valeur aléatoire tirée des valeurs non manquantes\n",
    "    return x.apply(lambda v: np.random.choice(non_missing_values) if pd.isna(v) else v)\n",
    "\n",
    "# Appliquer la fonction à chaque colonne\n",
    "print(df.apply(replace_with_random))"
   ]
  },
  {
   "cell_type": "markdown",
   "id": "08efde97-c117-4787-b930-6e130e393018",
   "metadata": {},
   "source": [
    "Methode KNN Imputer "
   ]
  },
  {
   "cell_type": "code",
   "execution_count": 74,
   "id": "b2b241fd-574b-47d9-9d73-6e44f6a856b5",
   "metadata": {},
   "outputs": [
    {
     "data": {
      "text/html": [
       "<div>\n",
       "<style scoped>\n",
       "    .dataframe tbody tr th:only-of-type {\n",
       "        vertical-align: middle;\n",
       "    }\n",
       "\n",
       "    .dataframe tbody tr th {\n",
       "        vertical-align: top;\n",
       "    }\n",
       "\n",
       "    .dataframe thead th {\n",
       "        text-align: right;\n",
       "    }\n",
       "</style>\n",
       "<table border=\"1\" class=\"dataframe\">\n",
       "  <thead>\n",
       "    <tr style=\"text-align: right;\">\n",
       "      <th></th>\n",
       "      <th>DATE_TODAY</th>\n",
       "      <th>LIBELLE</th>\n",
       "      <th>ID_ARTICLE</th>\n",
       "      <th>PRICE</th>\n",
       "      <th>STOCK</th>\n",
       "    </tr>\n",
       "  </thead>\n",
       "  <tbody>\n",
       "    <tr>\n",
       "      <th>0</th>\n",
       "      <td>2020-09-07</td>\n",
       "      <td>NaN</td>\n",
       "      <td>2196543.0</td>\n",
       "      <td>2.400000</td>\n",
       "      <td>6.000000</td>\n",
       "    </tr>\n",
       "    <tr>\n",
       "      <th>1</th>\n",
       "      <td>2020-09-07</td>\n",
       "      <td>NaN</td>\n",
       "      <td>2339672.0</td>\n",
       "      <td>2.020000</td>\n",
       "      <td>15.000000</td>\n",
       "    </tr>\n",
       "    <tr>\n",
       "      <th>2</th>\n",
       "      <td>NaN</td>\n",
       "      <td>NaN</td>\n",
       "      <td>2196543.0</td>\n",
       "      <td>2.350000</td>\n",
       "      <td>12.000000</td>\n",
       "    </tr>\n",
       "    <tr>\n",
       "      <th>3</th>\n",
       "      <td>2020-09-07</td>\n",
       "      <td>NaN</td>\n",
       "      <td>2024529.0</td>\n",
       "      <td>3.120000</td>\n",
       "      <td>11.000000</td>\n",
       "    </tr>\n",
       "    <tr>\n",
       "      <th>4</th>\n",
       "      <td>2020-09-07</td>\n",
       "      <td>NaN</td>\n",
       "      <td>8718949.0</td>\n",
       "      <td>3.090000</td>\n",
       "      <td>15.000000</td>\n",
       "    </tr>\n",
       "    <tr>\n",
       "      <th>...</th>\n",
       "      <td>...</td>\n",
       "      <td>...</td>\n",
       "      <td>...</td>\n",
       "      <td>...</td>\n",
       "      <td>...</td>\n",
       "    </tr>\n",
       "    <tr>\n",
       "      <th>1353</th>\n",
       "      <td>2020-09-07</td>\n",
       "      <td>NaN</td>\n",
       "      <td>2390619.0</td>\n",
       "      <td>5.370000</td>\n",
       "      <td>2.666667</td>\n",
       "    </tr>\n",
       "    <tr>\n",
       "      <th>1354</th>\n",
       "      <td>2020-09-07</td>\n",
       "      <td>Yaourt au soja, nature</td>\n",
       "      <td>6566229.0</td>\n",
       "      <td>3.366667</td>\n",
       "      <td>5.000000</td>\n",
       "    </tr>\n",
       "    <tr>\n",
       "      <th>1355</th>\n",
       "      <td>NaN</td>\n",
       "      <td>NaN</td>\n",
       "      <td>1866590.0</td>\n",
       "      <td>3.880000</td>\n",
       "      <td>9.000000</td>\n",
       "    </tr>\n",
       "    <tr>\n",
       "      <th>1356</th>\n",
       "      <td>2020-09-07</td>\n",
       "      <td>NaN</td>\n",
       "      <td>1866565.0</td>\n",
       "      <td>3.260000</td>\n",
       "      <td>3.000000</td>\n",
       "    </tr>\n",
       "    <tr>\n",
       "      <th>1357</th>\n",
       "      <td>2020-09-07</td>\n",
       "      <td>NaN</td>\n",
       "      <td>9768180.0</td>\n",
       "      <td>3.410000</td>\n",
       "      <td>7.000000</td>\n",
       "    </tr>\n",
       "  </tbody>\n",
       "</table>\n",
       "<p>1358 rows × 5 columns</p>\n",
       "</div>"
      ],
      "text/plain": [
       "      DATE_TODAY                 LIBELLE  ID_ARTICLE     PRICE      STOCK\n",
       "0     2020-09-07                     NaN   2196543.0  2.400000   6.000000\n",
       "1     2020-09-07                     NaN   2339672.0  2.020000  15.000000\n",
       "2            NaN                     NaN   2196543.0  2.350000  12.000000\n",
       "3     2020-09-07                     NaN   2024529.0  3.120000  11.000000\n",
       "4     2020-09-07                     NaN   8718949.0  3.090000  15.000000\n",
       "...          ...                     ...         ...       ...        ...\n",
       "1353  2020-09-07                     NaN   2390619.0  5.370000   2.666667\n",
       "1354  2020-09-07  Yaourt au soja, nature   6566229.0  3.366667   5.000000\n",
       "1355         NaN                     NaN   1866590.0  3.880000   9.000000\n",
       "1356  2020-09-07                     NaN   1866565.0  3.260000   3.000000\n",
       "1357  2020-09-07                     NaN   9768180.0  3.410000   7.000000\n",
       "\n",
       "[1358 rows x 5 columns]"
      ]
     },
     "execution_count": 74,
     "metadata": {},
     "output_type": "execute_result"
    }
   ],
   "source": [
    "from sklearn.impute import KNNImputer\n",
    "imputer = KNNImputer(n_neighbors=3)\n",
    "\n",
    "# Séparer les colonnes numériques et non numériques\n",
    "df_numeric = df.select_dtypes(include=[np.number])\n",
    "df_non_numeric = df.select_dtypes(exclude=[np.number])\n",
    "\n",
    "# Initialiser le KNN Imputer et appliquer l'imputation sur les colonnes numériques\n",
    "imputer = KNNImputer(n_neighbors=3)\n",
    "df_imputed_numeric = pd.DataFrame(imputer.fit_transform(df_numeric), columns=df_numeric.columns)\n",
    "\n",
    "# Combiner les colonnes numériques imputées avec les colonnes non numériques originales\n",
    "df_final = pd.concat([ df_non_numeric,df_imputed_numeric], axis=1)\n",
    "df_final"
   ]
  },
  {
   "cell_type": "code",
   "execution_count": null,
   "id": "89aa1657-1ae0-43d1-8933-7750f13c0e9f",
   "metadata": {},
   "outputs": [],
   "source": []
  }
 ],
 "metadata": {
  "kernelspec": {
   "display_name": "Python 3 (ipykernel)",
   "language": "python",
   "name": "python3"
  },
  "language_info": {
   "codemirror_mode": {
    "name": "ipython",
    "version": 3
   },
   "file_extension": ".py",
   "mimetype": "text/x-python",
   "name": "python",
   "nbconvert_exporter": "python",
   "pygments_lexer": "ipython3",
   "version": "3.11.9"
  }
 },
 "nbformat": 4,
 "nbformat_minor": 5
}
